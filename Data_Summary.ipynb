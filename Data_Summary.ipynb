{
 "cells": [
  {
   "cell_type": "code",
   "execution_count": 1,
   "metadata": {},
   "outputs": [],
   "source": [
    "# Import Dependencies\n",
    "import pandas as pd\n",
    "import csv\n",
    "import numpy as np\n",
    "import matplotlib.pyplot as plt"
   ]
  },
  {
   "cell_type": "code",
   "execution_count": 2,
   "metadata": {},
   "outputs": [],
   "source": [
    "# Set File path for original Data Set\n",
    "shark_attack_csv = 'data_files/clean_data.csv'"
   ]
  },
  {
   "cell_type": "code",
   "execution_count": 3,
   "metadata": {},
   "outputs": [],
   "source": [
    "# Read CSV into a Data Frame\n",
    "shark_df = pd.read_csv(shark_attack_csv, encoding='iso-8859-1')"
   ]
  },
  {
   "cell_type": "code",
   "execution_count": 4,
   "metadata": {},
   "outputs": [
    {
     "data": {
      "text/html": [
       "<div>\n",
       "<style scoped>\n",
       "    .dataframe tbody tr th:only-of-type {\n",
       "        vertical-align: middle;\n",
       "    }\n",
       "\n",
       "    .dataframe tbody tr th {\n",
       "        vertical-align: top;\n",
       "    }\n",
       "\n",
       "    .dataframe thead th {\n",
       "        text-align: right;\n",
       "    }\n",
       "</style>\n",
       "<table border=\"1\" class=\"dataframe\">\n",
       "  <thead>\n",
       "    <tr style=\"text-align: right;\">\n",
       "      <th></th>\n",
       "      <th>Date</th>\n",
       "      <th>Year</th>\n",
       "      <th>Type</th>\n",
       "      <th>Country</th>\n",
       "      <th>Area</th>\n",
       "      <th>Location</th>\n",
       "      <th>Activity</th>\n",
       "      <th>Sex</th>\n",
       "      <th>Age</th>\n",
       "      <th>Injury</th>\n",
       "      <th>Fatal (Y/N)</th>\n",
       "      <th>Time</th>\n",
       "      <th>Species</th>\n",
       "      <th>Day</th>\n",
       "      <th>Month</th>\n",
       "      <th>Lat</th>\n",
       "      <th>Lng</th>\n",
       "    </tr>\n",
       "  </thead>\n",
       "  <tbody>\n",
       "    <tr>\n",
       "      <th>0</th>\n",
       "      <td>25-Jun-18</td>\n",
       "      <td>2018</td>\n",
       "      <td>Boating</td>\n",
       "      <td>USA</td>\n",
       "      <td>California</td>\n",
       "      <td>Oceanside, San Diego County</td>\n",
       "      <td>BOARDING</td>\n",
       "      <td>F</td>\n",
       "      <td>57.0</td>\n",
       "      <td>No injury to occupant, outrigger canoe and pad...</td>\n",
       "      <td>N</td>\n",
       "      <td>18.0</td>\n",
       "      <td>White shark</td>\n",
       "      <td>25.0</td>\n",
       "      <td>Jun</td>\n",
       "      <td>33.195870</td>\n",
       "      <td>-117.379483</td>\n",
       "    </tr>\n",
       "    <tr>\n",
       "      <th>1</th>\n",
       "      <td>18-Jun-18</td>\n",
       "      <td>2018</td>\n",
       "      <td>Unprovoked</td>\n",
       "      <td>USA</td>\n",
       "      <td>Georgia</td>\n",
       "      <td>St. Simon Island, Glynn County</td>\n",
       "      <td>SWIMMING</td>\n",
       "      <td>F</td>\n",
       "      <td>11.0</td>\n",
       "      <td>Minor injury to left thigh</td>\n",
       "      <td>N</td>\n",
       "      <td>14.0</td>\n",
       "      <td>Non-Disclosed</td>\n",
       "      <td>18.0</td>\n",
       "      <td>Jun</td>\n",
       "      <td>31.159591</td>\n",
       "      <td>-81.388552</td>\n",
       "    </tr>\n",
       "    <tr>\n",
       "      <th>2</th>\n",
       "      <td>9-Jun-18</td>\n",
       "      <td>2018</td>\n",
       "      <td>Invalid</td>\n",
       "      <td>USA</td>\n",
       "      <td>Hawaii</td>\n",
       "      <td>Habush, Oahu</td>\n",
       "      <td>SURFING</td>\n",
       "      <td>M</td>\n",
       "      <td>48.0</td>\n",
       "      <td>Injury to left lower leg from surfboard skeg</td>\n",
       "      <td>N</td>\n",
       "      <td>7.0</td>\n",
       "      <td>Non-Disclosed</td>\n",
       "      <td>9.0</td>\n",
       "      <td>Jun</td>\n",
       "      <td>21.305612</td>\n",
       "      <td>-158.030190</td>\n",
       "    </tr>\n",
       "    <tr>\n",
       "      <th>3</th>\n",
       "      <td>8-Jun-18</td>\n",
       "      <td>2018</td>\n",
       "      <td>Unprovoked</td>\n",
       "      <td>AUSTRALIA</td>\n",
       "      <td>New South Wales</td>\n",
       "      <td>Arrawarra Headland</td>\n",
       "      <td>SURFING</td>\n",
       "      <td>M</td>\n",
       "      <td>NaN</td>\n",
       "      <td>Minor injury to lower leg</td>\n",
       "      <td>N</td>\n",
       "      <td>NaN</td>\n",
       "      <td>Non-Disclosed</td>\n",
       "      <td>8.0</td>\n",
       "      <td>Jun</td>\n",
       "      <td>-30.068611</td>\n",
       "      <td>153.195278</td>\n",
       "    </tr>\n",
       "    <tr>\n",
       "      <th>4</th>\n",
       "      <td>4-Jun-18</td>\n",
       "      <td>2018</td>\n",
       "      <td>Provoked</td>\n",
       "      <td>MEXICO</td>\n",
       "      <td>Colima</td>\n",
       "      <td>La Ticla</td>\n",
       "      <td>DIVING</td>\n",
       "      <td>M</td>\n",
       "      <td>NaN</td>\n",
       "      <td>Lacerations to leg &amp; hand shark PROVOKED INCIDENT</td>\n",
       "      <td>N</td>\n",
       "      <td>NaN</td>\n",
       "      <td>Tiger shark</td>\n",
       "      <td>4.0</td>\n",
       "      <td>Jun</td>\n",
       "      <td>18.454353</td>\n",
       "      <td>-103.554131</td>\n",
       "    </tr>\n",
       "  </tbody>\n",
       "</table>\n",
       "</div>"
      ],
      "text/plain": [
       "        Date  Year        Type    Country             Area  \\\n",
       "0  25-Jun-18  2018     Boating        USA       California   \n",
       "1  18-Jun-18  2018  Unprovoked        USA          Georgia   \n",
       "2   9-Jun-18  2018     Invalid        USA           Hawaii   \n",
       "3   8-Jun-18  2018  Unprovoked  AUSTRALIA  New South Wales   \n",
       "4   4-Jun-18  2018    Provoked     MEXICO           Colima   \n",
       "\n",
       "                         Location  Activity Sex   Age  \\\n",
       "0     Oceanside, San Diego County  BOARDING   F  57.0   \n",
       "1  St. Simon Island, Glynn County  SWIMMING   F  11.0   \n",
       "2                    Habush, Oahu   SURFING   M  48.0   \n",
       "3              Arrawarra Headland   SURFING   M   NaN   \n",
       "4                        La Ticla    DIVING   M   NaN   \n",
       "\n",
       "                                              Injury Fatal (Y/N)  Time  \\\n",
       "0  No injury to occupant, outrigger canoe and pad...           N  18.0   \n",
       "1                         Minor injury to left thigh           N  14.0   \n",
       "2       Injury to left lower leg from surfboard skeg           N   7.0   \n",
       "3                          Minor injury to lower leg           N   NaN   \n",
       "4  Lacerations to leg & hand shark PROVOKED INCIDENT           N   NaN   \n",
       "\n",
       "         Species   Day Month        Lat         Lng  \n",
       "0    White shark  25.0   Jun  33.195870 -117.379483  \n",
       "1  Non-Disclosed  18.0   Jun  31.159591  -81.388552  \n",
       "2  Non-Disclosed   9.0   Jun  21.305612 -158.030190  \n",
       "3  Non-Disclosed   8.0   Jun -30.068611  153.195278  \n",
       "4    Tiger shark   4.0   Jun  18.454353 -103.554131  "
      ]
     },
     "execution_count": 4,
     "metadata": {},
     "output_type": "execute_result"
    }
   ],
   "source": [
    "#View Sample\n",
    "shark_df.head()"
   ]
  },
  {
   "cell_type": "code",
   "execution_count": 23,
   "metadata": {},
   "outputs": [],
   "source": [
    "total_attacks = shark_df['Date'].count()\n",
    "first_date = shark_df['Year'].min()\n",
    "last_date = shark_df['Year'].max()\n",
    "total_years = last_date - first_date\n",
    "species_count = len(shark_df['Species'].unique())\n",
    "countries = len(shark_df['Country'].unique())\n",
    "usa_attacks = len(shark_df['Country'].loc[shark_df['Country'] == 'USA'])\n",
    "non_disclosed = len(shark_df['Country'].loc[shark_df['Species'] == 'Non-Disclosed'])\n",
    "white_count = len(shark_df['Country'].loc[shark_df['Species'] == 'White shark'])"
   ]
  },
  {
   "cell_type": "code",
   "execution_count": 24,
   "metadata": {},
   "outputs": [
    {
     "data": {
      "text/plain": [
       "Non-Disclosed         2103\n",
       "White shark            534\n",
       "Invalid                333\n",
       "Tiger shark            195\n",
       "Bull shark             152\n",
       "                      ... \n",
       "Port Jackson shark       1\n",
       "Leopard shark            1\n",
       "Cat shark                1\n",
       "Silvertip shark          1\n",
       "Grey shark               1\n",
       "Name: Species, Length: 66, dtype: int64"
      ]
     },
     "execution_count": 24,
     "metadata": {},
     "output_type": "execute_result"
    }
   ],
   "source": [
    "shark_df['Species'].value_counts()"
   ]
  },
  {
   "cell_type": "code",
   "execution_count": 27,
   "metadata": {},
   "outputs": [
    {
     "name": "stdout",
     "output_type": "stream",
     "text": [
      "Summary of Shark Attacks\n",
      "Total of 4033 over a 58 year span.\n",
      "The first attack was in 1960 and the most recent in 2018.\n",
      "The attacks were reported in 129 different countries with 1756 in the USA.\n",
      "66 different species were reported in total.\n",
      "In 52.14% of reported attacks the species is unknown.\n",
      "The most common species of shark in attacks is the \"White Shark\" at 13.24%.\n"
     ]
    }
   ],
   "source": [
    "print('Summary of Shark Attacks')\n",
    "print(f'Total of {total_attacks} over a {total_years} year span.')\n",
    "print(f'The first attack was in {first_date} and the most recent in {last_date}.')\n",
    "print(f'The attacks were reported in {countries} different countries with {usa_attacks} in the USA.')\n",
    "print(f'{species_count} different species were reported in total.')\n",
    "print(f'In {round(non_disclosed/total_attacks*100, 2)}% of reported attacks the species is unknown.')\n",
    "print(f'The most common species of shark in attacks is the \"White Shark\" at {round(white_count/total_attacks*100, 2)}%.')"
   ]
  },
  {
   "cell_type": "code",
   "execution_count": null,
   "metadata": {},
   "outputs": [],
   "source": []
  }
 ],
 "metadata": {
  "kernelspec": {
   "display_name": "Python 3",
   "language": "python",
   "name": "python3"
  },
  "language_info": {
   "codemirror_mode": {
    "name": "ipython",
    "version": 3
   },
   "file_extension": ".py",
   "mimetype": "text/x-python",
   "name": "python",
   "nbconvert_exporter": "python",
   "pygments_lexer": "ipython3",
   "version": "3.8.1"
  }
 },
 "nbformat": 4,
 "nbformat_minor": 4
}
